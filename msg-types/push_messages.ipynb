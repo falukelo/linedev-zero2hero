{
 "cells": [
  {
   "cell_type": "code",
   "execution_count": 17,
   "metadata": {},
   "outputs": [],
   "source": [
    "from linebot.v3 import WebhookHandler\n",
    "from linebot.v3.messaging import Configuration, ApiClient, MessagingApi\n",
    "from linebot.v3.messaging import ReplyMessageRequest, TextMessage, StickerMessage, FlexMessage, FlexContainer\n",
    "from linebot.v3.webhooks import MessageEvent, TextMessageContent, StickerMessageContent"
   ]
  },
  {
   "cell_type": "code",
   "execution_count": 2,
   "metadata": {},
   "outputs": [],
   "source": [
    "from linebot.v3 import messaging"
   ]
  },
  {
   "cell_type": "code",
   "execution_count": 3,
   "metadata": {},
   "outputs": [],
   "source": [
    "configuration = Configuration(access_token='44ub+Pztj0Xlk3zluS0vBTVdxlydxb1DqqNw/wU96NGnMxJ0B5IYqzujzywwiQ/Wi3MD7tYhwB9kc/LGXbXpMAUyQU3/gJ4k3Une3yMvSw/fw5jS6jlsdJJAvSIvtQ39hfrOTZF7jpsjTFW7MLi/bgdB04t89/1O/w1cDnyilFU=')"
   ]
  },
  {
   "cell_type": "code",
   "execution_count": 4,
   "metadata": {},
   "outputs": [],
   "source": [
    "my_uuid = 'U15e66ce6896aa406817afe897a032e32'"
   ]
  },
  {
   "cell_type": "code",
   "execution_count": 5,
   "metadata": {},
   "outputs": [],
   "source": [
    "def push_test(msg):\n",
    "    with ApiClient(configuration) as api_client:\n",
    "        line_bot_api = MessagingApi(api_client)\n",
    "        push_message_request = messaging.PushMessageRequest(to = my_uuid, messages = msg) # PushMessageRequest | \n",
    "        try:\n",
    "            api_response = line_bot_api.push_message(push_message_request)\n",
    "            print(\"The response of MessagingApi->push_message:\\n\")\n",
    "        except Exception as e:\n",
    "            print(\"Exception when calling MessagingApi->push_message: %s\\n\" % e)"
   ]
  },
  {
   "cell_type": "code",
   "execution_count": 6,
   "metadata": {},
   "outputs": [
    {
     "name": "stdout",
     "output_type": "stream",
     "text": [
      "The response of MessagingApi->push_message:\n",
      "\n"
     ]
    }
   ],
   "source": [
    "msg = [TextMessage(text=\"Hello\")]\n",
    "push_test(msg)"
   ]
  },
  {
   "cell_type": "code",
   "execution_count": 27,
   "metadata": {},
   "outputs": [
    {
     "name": "stdout",
     "output_type": "stream",
     "text": [
      "The response of MessagingApi->push_message:\n",
      "\n"
     ]
    }
   ],
   "source": [
    "msg = [messaging.LocationMessage(title= \"Home\", address = \"1-3 Kioicho, Chiyoda-ku, Tokyo, 102-8282, Japan\", latitude= 35.67966, longitude = 139.73669)]\n",
    "push_test(msg)"
   ]
  },
  {
   "cell_type": "code",
   "execution_count": 18,
   "metadata": {},
   "outputs": [],
   "source": [
    "bubble_string = {\n",
    "  \"type\": \"bubble\",\n",
    "  \"hero\": {\n",
    "    \"type\": \"image\",\n",
    "    \"url\": \"https://developers-resource.landpress.line.me/fx/img/01_1_cafe.png\",\n",
    "    \"size\": \"full\",\n",
    "    \"aspectRatio\": \"20:13\",\n",
    "    \"aspectMode\": \"cover\",\n",
    "    \"action\": {\n",
    "      \"type\": \"uri\",\n",
    "      \"uri\": \"https://line.me/\"\n",
    "    }\n",
    "  },\n",
    "  \"body\": {\n",
    "    \"type\": \"box\",\n",
    "    \"layout\": \"vertical\",\n",
    "    \"contents\": [\n",
    "      {\n",
    "        \"type\": \"text\",\n",
    "        \"text\": \"Brown Cafe\",\n",
    "        \"weight\": \"bold\",\n",
    "        \"size\": \"xl\"\n",
    "      },\n",
    "      {\n",
    "        \"type\": \"box\",\n",
    "        \"layout\": \"baseline\",\n",
    "        \"margin\": \"md\",\n",
    "        \"contents\": [\n",
    "          {\n",
    "            \"type\": \"icon\",\n",
    "            \"size\": \"sm\",\n",
    "            \"url\": \"https://developers-resource.landpress.line.me/fx/img/review_gold_star_28.png\"\n",
    "          },\n",
    "          {\n",
    "            \"type\": \"icon\",\n",
    "            \"size\": \"sm\",\n",
    "            \"url\": \"https://developers-resource.landpress.line.me/fx/img/review_gold_star_28.png\"\n",
    "          },\n",
    "          {\n",
    "            \"type\": \"icon\",\n",
    "            \"size\": \"sm\",\n",
    "            \"url\": \"https://developers-resource.landpress.line.me/fx/img/review_gold_star_28.png\"\n",
    "          },\n",
    "          {\n",
    "            \"type\": \"icon\",\n",
    "            \"size\": \"sm\",\n",
    "            \"url\": \"https://developers-resource.landpress.line.me/fx/img/review_gold_star_28.png\"\n",
    "          },\n",
    "          {\n",
    "            \"type\": \"icon\",\n",
    "            \"size\": \"sm\",\n",
    "            \"url\": \"https://developers-resource.landpress.line.me/fx/img/review_gray_star_28.png\"\n",
    "          },\n",
    "          {\n",
    "            \"type\": \"text\",\n",
    "            \"text\": \"4.0\",\n",
    "            \"size\": \"sm\",\n",
    "            \"color\": \"#999999\",\n",
    "            \"margin\": \"md\",\n",
    "            \"flex\": 0\n",
    "          }\n",
    "        ]\n",
    "      },\n",
    "      {\n",
    "        \"type\": \"box\",\n",
    "        \"layout\": \"vertical\",\n",
    "        \"margin\": \"lg\",\n",
    "        \"spacing\": \"sm\",\n",
    "        \"contents\": [\n",
    "          {\n",
    "            \"type\": \"box\",\n",
    "            \"layout\": \"baseline\",\n",
    "            \"spacing\": \"sm\",\n",
    "            \"contents\": [\n",
    "              {\n",
    "                \"type\": \"text\",\n",
    "                \"text\": \"Place\",\n",
    "                \"color\": \"#aaaaaa\",\n",
    "                \"size\": \"sm\",\n",
    "                \"flex\": 1\n",
    "              },\n",
    "              {\n",
    "                \"type\": \"text\",\n",
    "                \"text\": \"Flex Tower, 7-7-4 Midori-ku, Tokyo\",\n",
    "                \"wrap\": True,\n",
    "                \"color\": \"#666666\",\n",
    "                \"size\": \"sm\",\n",
    "                \"flex\": 5\n",
    "              }\n",
    "            ]\n",
    "          },\n",
    "          {\n",
    "            \"type\": \"box\",\n",
    "            \"layout\": \"baseline\",\n",
    "            \"spacing\": \"sm\",\n",
    "            \"contents\": [\n",
    "              {\n",
    "                \"type\": \"text\",\n",
    "                \"text\": \"Time\",\n",
    "                \"color\": \"#aaaaaa\",\n",
    "                \"size\": \"sm\",\n",
    "                \"flex\": 1\n",
    "              },\n",
    "              {\n",
    "                \"type\": \"text\",\n",
    "                \"text\": \"10:00 - 23:00\",\n",
    "                \"wrap\": True,\n",
    "                \"color\": \"#666666\",\n",
    "                \"size\": \"sm\",\n",
    "                \"flex\": 5\n",
    "              }\n",
    "            ]\n",
    "          }\n",
    "        ]\n",
    "      }\n",
    "    ]\n",
    "  },\n",
    "  \"footer\": {\n",
    "    \"type\": \"box\",\n",
    "    \"layout\": \"vertical\",\n",
    "    \"spacing\": \"sm\",\n",
    "    \"contents\": [\n",
    "      {\n",
    "        \"type\": \"button\",\n",
    "        \"style\": \"link\",\n",
    "        \"height\": \"sm\",\n",
    "        \"action\": {\n",
    "          \"type\": \"uri\",\n",
    "          \"label\": \"CALL\",\n",
    "          \"uri\": \"https://line.me/\"\n",
    "        }\n",
    "      },\n",
    "      {\n",
    "        \"type\": \"button\",\n",
    "        \"style\": \"link\",\n",
    "        \"height\": \"sm\",\n",
    "        \"action\": {\n",
    "          \"type\": \"uri\",\n",
    "          \"label\": \"WEBSITE\",\n",
    "          \"uri\": \"https://line.me/\"\n",
    "        }\n",
    "      },\n",
    "      {\n",
    "        \"type\": \"box\",\n",
    "        \"layout\": \"vertical\",\n",
    "        \"contents\": [],\n",
    "        \"margin\": \"sm\"\n",
    "      }\n",
    "    ],\n",
    "    \"flex\": 0\n",
    "  }\n",
    "}"
   ]
  },
  {
   "cell_type": "code",
   "execution_count": 20,
   "metadata": {},
   "outputs": [],
   "source": [
    "message = FlexMessage(alt_text=\"hello\", contents=FlexContainer.from_dict(bubble_string))"
   ]
  },
  {
   "cell_type": "code",
   "execution_count": 21,
   "metadata": {},
   "outputs": [
    {
     "name": "stdout",
     "output_type": "stream",
     "text": [
      "The response of MessagingApi->push_message:\n",
      "\n"
     ]
    }
   ],
   "source": [
    "msg = [message]\n",
    "push_test(msg)"
   ]
  },
  {
   "cell_type": "code",
   "execution_count": null,
   "metadata": {},
   "outputs": [],
   "source": []
  }
 ],
 "metadata": {
  "kernelspec": {
   "display_name": ".venv",
   "language": "python",
   "name": "python3"
  },
  "language_info": {
   "codemirror_mode": {
    "name": "ipython",
    "version": 3
   },
   "file_extension": ".py",
   "mimetype": "text/x-python",
   "name": "python",
   "nbconvert_exporter": "python",
   "pygments_lexer": "ipython3",
   "version": "3.13.0"
  }
 },
 "nbformat": 4,
 "nbformat_minor": 2
}
