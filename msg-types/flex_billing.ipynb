{
 "cells": [
  {
   "cell_type": "code",
   "execution_count": 61,
   "metadata": {},
   "outputs": [],
   "source": [
    "from linebot.v3 import WebhookHandler\n",
    "from linebot.v3.messaging import Configuration, ApiClient, MessagingApi\n",
    "from linebot.v3.messaging import ReplyMessageRequest, TextMessage, StickerMessage, FlexMessage, FlexContainer\n",
    "from linebot.v3.webhooks import MessageEvent, TextMessageContent, StickerMessageContent"
   ]
  },
  {
   "cell_type": "code",
   "execution_count": 62,
   "metadata": {},
   "outputs": [],
   "source": [
    "from linebot.v3 import messaging\n",
    "import pandas as pd"
   ]
  },
  {
   "cell_type": "code",
   "execution_count": 63,
   "metadata": {},
   "outputs": [],
   "source": [
    "configuration = Configuration(access_token='44ub+Pztj0Xlk3zluS0vBTVdxlydxb1DqqNw/wU96NGnMxJ0B5IYqzujzywwiQ/Wi3MD7tYhwB9kc/LGXbXpMAUyQU3/gJ4k3Une3yMvSw/fw5jS6jlsdJJAvSIvtQ39hfrOTZF7jpsjTFW7MLi/bgdB04t89/1O/w1cDnyilFU=')"
   ]
  },
  {
   "cell_type": "code",
   "execution_count": 12,
   "metadata": {},
   "outputs": [],
   "source": [
    "my_uuid = 'U15e66ce6896aa406817afe897a032e32'\n",
    "# U6e9c1d75bde1ec601c17a8f9206ad00d P'Chon\n",
    "# Ucba3580fa6f0eaa430f9b217118527cf P'Net"
   ]
  },
  {
   "cell_type": "code",
   "execution_count": 64,
   "metadata": {},
   "outputs": [],
   "source": [
    "def push_test(my_uuid, msg):\n",
    "    with ApiClient(configuration) as api_client:\n",
    "        line_bot_api = MessagingApi(api_client)\n",
    "        push_message_request = messaging.PushMessageRequest(to = my_uuid, messages = msg) # PushMessageRequest | \n",
    "        try:\n",
    "            api_response = line_bot_api.push_message(push_message_request)\n",
    "            print(\"The response of MessagingApi->push_message:\\n\")\n",
    "        except Exception as e:\n",
    "            print(\"Exception when calling MessagingApi->push_message: %s\\n\" % e)"
   ]
  },
  {
   "cell_type": "code",
   "execution_count": 22,
   "metadata": {},
   "outputs": [
    {
     "data": {
      "text/html": [
       "<div>\n",
       "<style scoped>\n",
       "    .dataframe tbody tr th:only-of-type {\n",
       "        vertical-align: middle;\n",
       "    }\n",
       "\n",
       "    .dataframe tbody tr th {\n",
       "        vertical-align: top;\n",
       "    }\n",
       "\n",
       "    .dataframe thead th {\n",
       "        text-align: right;\n",
       "    }\n",
       "</style>\n",
       "<table border=\"1\" class=\"dataframe\">\n",
       "  <thead>\n",
       "    <tr style=\"text-align: right;\">\n",
       "      <th></th>\n",
       "      <th>name</th>\n",
       "      <th>items</th>\n",
       "      <th>price</th>\n",
       "    </tr>\n",
       "  </thead>\n",
       "  <tbody>\n",
       "    <tr>\n",
       "      <th>0</th>\n",
       "      <td>Net</td>\n",
       "      <td>Iphone 16 Pro Max</td>\n",
       "      <td>46900</td>\n",
       "    </tr>\n",
       "    <tr>\n",
       "      <th>1</th>\n",
       "      <td>Net</td>\n",
       "      <td>Adepter</td>\n",
       "      <td>790</td>\n",
       "    </tr>\n",
       "    <tr>\n",
       "      <th>2</th>\n",
       "      <td>Chon</td>\n",
       "      <td>Bigbike</td>\n",
       "      <td>1299000</td>\n",
       "    </tr>\n",
       "    <tr>\n",
       "      <th>3</th>\n",
       "      <td>Chon</td>\n",
       "      <td>Keybroad</td>\n",
       "      <td>1200</td>\n",
       "    </tr>\n",
       "    <tr>\n",
       "      <th>4</th>\n",
       "      <td>Chon</td>\n",
       "      <td>Mouse</td>\n",
       "      <td>1199</td>\n",
       "    </tr>\n",
       "    <tr>\n",
       "      <th>5</th>\n",
       "      <td>Fluke</td>\n",
       "      <td>Macbook</td>\n",
       "      <td>79000</td>\n",
       "    </tr>\n",
       "  </tbody>\n",
       "</table>\n",
       "</div>"
      ],
      "text/plain": [
       "    name              items    price\n",
       "0    Net  Iphone 16 Pro Max    46900\n",
       "1    Net            Adepter      790\n",
       "2   Chon            Bigbike  1299000\n",
       "3   Chon           Keybroad     1200\n",
       "4   Chon              Mouse     1199\n",
       "5  Fluke            Macbook    79000"
      ]
     },
     "execution_count": 22,
     "metadata": {},
     "output_type": "execute_result"
    }
   ],
   "source": [
    "df = pd.read_excel('C:\\\\Users\\\\Falukelo\\\\Documents\\\\Falukelo\\\\ffdev\\\\order_detail.xlsx')\n",
    "df"
   ]
  },
  {
   "cell_type": "code",
   "execution_count": 23,
   "metadata": {},
   "outputs": [],
   "source": [
    "my_uuid = 'U15e66ce6896aa406817afe897a032e32'\n",
    "# U6e9c1d75bde1ec601c17a8f9206ad00d P'Chon\n",
    "# Ucba3580fa6f0eaa430f9b217118527cf P'Net\n",
    "uuid = {\n",
    "    'Net': 'Ucba3580fa6f0eaa430f9b217118527cf',\n",
    "    'Chon': 'U6e9c1d75bde1ec601c17a8f9206ad00d',\n",
    "    'Fluke': 'U15e66ce6896aa406817afe897a032e32'\n",
    "}"
   ]
  },
  {
   "cell_type": "code",
   "execution_count": 117,
   "metadata": {},
   "outputs": [],
   "source": [
    "item_template = {\n",
    "  \"type\": \"box\",\n",
    "  \"layout\": \"horizontal\",\n",
    "  \"contents\": [\n",
    "    {\n",
    "      \"type\": \"text\",\n",
    "      \"text\": \"\",\n",
    "      \"size\": \"sm\",\n",
    "      \"color\": \"#555555\",\n",
    "      \"flex\": 0\n",
    "    },\n",
    "    {\n",
    "      \"type\": \"text\",\n",
    "      \"text\": \"\",\n",
    "      \"size\": \"sm\",\n",
    "      \"color\": \"#111111\",\n",
    "      \"align\": \"end\"\n",
    "    }\n",
    "  ]\n",
    "}\n",
    "sep_template = {\n",
    "  \"type\": \"separator\",\n",
    "  \"margin\": \"xxl\"\n",
    "}\n",
    "billing_template = {\n",
    "  \"type\": \"bubble\",\n",
    "  \"body\": {\n",
    "    \"type\": \"box\",\n",
    "    \"layout\": \"vertical\",\n",
    "    \"contents\": [\n",
    "      {\n",
    "        \"type\": \"text\",\n",
    "        \"text\": \"RECEIPT\",\n",
    "        \"weight\": \"bold\",\n",
    "        \"color\": \"#1DB446\",\n",
    "        \"size\": \"sm\"\n",
    "      },\n",
    "      {\n",
    "        \"type\": \"text\",\n",
    "        \"text\": \"Line Dev Store\",\n",
    "        \"weight\": \"bold\",\n",
    "        \"size\": \"xxl\",\n",
    "        \"margin\": \"md\"\n",
    "      },\n",
    "      {\n",
    "        \"type\": \"separator\",\n",
    "        \"margin\": \"xxl\"\n",
    "      },\n",
    "      {\n",
    "        \"type\": \"box\",\n",
    "        \"layout\": \"vertical\",\n",
    "        \"margin\": \"xxl\",\n",
    "        \"spacing\": \"sm\",\n",
    "        \"contents\": [] # add item\n",
    "      },\n",
    "      {\n",
    "        \"type\": \"separator\",\n",
    "        \"margin\": \"xxl\"\n",
    "      },\n",
    "      {\n",
    "        \"type\": \"box\",\n",
    "        \"layout\": \"horizontal\",\n",
    "        \"margin\": \"md\",\n",
    "        \"contents\": [\n",
    "          {\n",
    "            \"type\": \"text\",\n",
    "            \"text\": \"PAYMENT ID\",\n",
    "            \"size\": \"xs\",\n",
    "            \"color\": \"#aaaaaa\",\n",
    "            \"flex\": 0\n",
    "          },\n",
    "          {\n",
    "            \"type\": \"text\",\n",
    "            \"text\": \"#743289384279\",\n",
    "            \"color\": \"#aaaaaa\",\n",
    "            \"size\": \"xs\",\n",
    "            \"align\": \"end\"\n",
    "          }\n",
    "        ]\n",
    "      }\n",
    "    ]\n",
    "  },\n",
    "  \"styles\": {\n",
    "    \"footer\": {\n",
    "      \"separator\": True\n",
    "    }\n",
    "  }\n",
    "}"
   ]
  },
  {
   "cell_type": "code",
   "execution_count": 118,
   "metadata": {},
   "outputs": [],
   "source": [
    "import copy"
   ]
  },
  {
   "cell_type": "code",
   "execution_count": 125,
   "metadata": {},
   "outputs": [
    {
     "name": "stdout",
     "output_type": "stream",
     "text": [
      "The response of MessagingApi->push_message:\n",
      "\n",
      "The response of MessagingApi->push_message:\n",
      "\n",
      "The response of MessagingApi->push_message:\n",
      "\n"
     ]
    }
   ],
   "source": [
    "for name in uuid:\n",
    "    uid = uuid[name]\n",
    "    content_items = []\n",
    "    billing = copy.deepcopy(billing_template)\n",
    "    df_tmp = df.loc[df['name'] == name]\n",
    "    df_tmp.reset_index(drop=True, inplace=True)\n",
    "    for i, row in df_tmp.iterrows():\n",
    "        item = copy.deepcopy(item_template)\n",
    "        content_items.append(item)\n",
    "        item_name = row['items']\n",
    "        price = row['price']\n",
    "        content_items[i]['contents'][0]['text'] = item_name\n",
    "        content_items[i]['contents'][1]['text'] = str(f\"{price:,d}\")\n",
    "    content_items.append(sep_template)\n",
    "    item = copy.deepcopy(item_template)\n",
    "    content_items.append(item)\n",
    "    content_items[i+2]['contents'][0]['text'] = \"Items\"\n",
    "    content_items[i+2]['contents'][1]['text'] = str(len(df_tmp))\n",
    "    item = copy.deepcopy(item_template)\n",
    "    content_items.append(item)\n",
    "    content_items[i+3]['contents'][0]['text'] = \"Total\"\n",
    "    content_items[i+3]['contents'][1]['text'] = str(f\"{int(df_tmp.price.sum()):,d}\")\n",
    "    content_items.append(sep_template)\n",
    "    billing['body']['contents'][3]['contents'] = content_items\n",
    "    message = FlexMessage(alt_text=\"Line Dev Billing\", contents=FlexContainer.from_dict(billing))\n",
    "    push_test(uid, [message])"
   ]
  },
  {
   "cell_type": "code",
   "execution_count": null,
   "metadata": {},
   "outputs": [],
   "source": []
  }
 ],
 "metadata": {
  "kernelspec": {
   "display_name": ".venv",
   "language": "python",
   "name": "python3"
  },
  "language_info": {
   "codemirror_mode": {
    "name": "ipython",
    "version": 3
   },
   "file_extension": ".py",
   "mimetype": "text/x-python",
   "name": "python",
   "nbconvert_exporter": "python",
   "pygments_lexer": "ipython3",
   "version": "3.13.0"
  }
 },
 "nbformat": 4,
 "nbformat_minor": 2
}
